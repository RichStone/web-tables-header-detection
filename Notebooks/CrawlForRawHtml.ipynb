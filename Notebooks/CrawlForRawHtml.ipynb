{
 "cells": [
  {
   "cell_type": "code",
   "execution_count": 177,
   "metadata": {},
   "outputs": [],
   "source": [
    "import os\n",
    "import json\n",
    "from pprint import pprint\n",
    "import requests\n",
    "import re"
   ]
  },
  {
   "cell_type": "code",
   "execution_count": 178,
   "metadata": {},
   "outputs": [],
   "source": [
    "def toJson(htmlTable):\n",
    "    table = {}\n",
    "    table[\"rows\"] = []\n",
    "    rowStart = htmlTable.find(\"<tr\")\n",
    "    table[\"stylingHtml\"] = htmlTable[:rowStart]\n",
    "    rows = htmlTable[rowStart:htmlTable.find(\"</tbody>\")].split(\"</tr>\")\n",
    "    for htmlRow in rows[:len(rows)-1]:\n",
    "        row ={}\n",
    "        row[\"cells\"] = []\n",
    "        cellStart = re.search(\"<t[hd]\", htmlRow).start()\n",
    "        row[\"stylingHtml\"] = htmlRow[:cellStart]\n",
    "        while re.search(\"<t[hd]\", htmlRow[cellStart:]):\n",
    "            cell = {}\n",
    "            cellEnd = re.search(\"</t[hd]\", htmlRow[cellStart:]).start() + 5 + cellStart\n",
    "            cell[\"html\"] = htmlRow[cellStart:cellEnd]\n",
    "            row[\"cells\"].append(cell)\n",
    "            cellStart = cellEnd\n",
    "        table[\"rows\"].append(row)\n",
    "    return json.dumps(table)\n",
    "    "
   ]
  },
  {
   "cell_type": "code",
   "execution_count": 179,
   "metadata": {},
   "outputs": [],
   "source": [
    "def getTables(html):\n",
    "    tables = []\n",
    "    tableBegin = 0\n",
    "    splits = html.split('<table class=\"wikitable')\n",
    "    # print(\"Len of splits: \")\n",
    "    # print(len(splits))\n",
    "    while html.find('<table class=\"wikitable', tableBegin) != -1:\n",
    "        tableBegin = html.find('<table class=\"wikitable', tableBegin)\n",
    "        # print(\"Table begin:\" + str(tableBegin))\n",
    "        tableEnd = html.find('</table>', tableBegin)\n",
    "        # print(\"Table end:\" + str(tableEnd))\n",
    "        if tableEnd == -1:\n",
    "            print(\"Could not find the end for the table.\")\n",
    "            return tables\n",
    "        elif html.find('<table', tableBegin + 6, tableEnd) != -1:\n",
    "            # print(\"Nested Begin:\" + str(html.find('<table', tableBegin + 6, tableEnd)))\n",
    "            print(\"We are currently skipping nested tables.\")\n",
    "            return tables\n",
    "        else:\n",
    "            tables.append(html[tableBegin:tableEnd + 8])\n",
    "        tableBegin = tableEnd + 8\n",
    "    return tables"
   ]
  },
  {
   "cell_type": "code",
   "execution_count": 180,
   "metadata": {},
   "outputs": [],
   "source": [
    "def getRawHtml(table):\n",
    "    pgId = table['pgId']\n",
    "    url = 'https://en.wikipedia.org/?curid=' + str(pgId)\n",
    "    response = requests.get(url)\n",
    "    return response.text"
   ]
  },
  {
   "cell_type": "code",
   "execution_count": 181,
   "metadata": {},
   "outputs": [
    {
     "name": "stdout",
     "output_type": "stream",
     "text": [
      "10000032\n",
      "('{\"rows\": [{\"cells\": [{\"html\": \"<th colspan=\\\\\"2\\\\\">Election</th>\"}, {\"html\": '\n",
      " '\"\\\\n<th>Member</th>\"}, {\"html\": \"\\\\n<th>Party\\\\n</th>\"}], \"stylingHtml\": '\n",
      " '\"<tr>\\\\n\"}, {\"cells\": [{\"html\": \"<td rowspan=\\\\\"10\\\\\" '\n",
      " 'style=\\\\\"background-color: #48A5EE\\\\\">\\\\n</td>\"}, {\"html\": \"\\\\n<td><a '\n",
      " 'href=\\\\\"/wiki/Northern_Ireland_general_election,_1929\\\\\" '\n",
      " 'class=\\\\\"mw-redirect\\\\\" title=\\\\\"Northern Ireland general election, '\n",
      " '1929\\\\\">1929</a>\\\\n</td>\"}, {\"html\": \"\\\\n<td rowspan=\\\\\"2\\\\\"><a '\n",
      " 'href=\\\\\"/wiki/Robert_Crawford_(Antrim_politician)\\\\\" title=\\\\\"Robert '\n",
      " 'Crawford (Antrim politician)\\\\\">Robert Crawford</a>\\\\n</td>\"}, {\"html\": '\n",
      " '\"\\\\n<td rowspan=\\\\\"10\\\\\"><a href=\\\\\"/wiki/Ulster_Unionist_Party\\\\\" '\n",
      " 'title=\\\\\"Ulster Unionist Party\\\\\">Ulster Unionist</a>\\\\n</td>\"}], '\n",
      " '\"stylingHtml\": \"\\\\n<tr>\\\\n\"}, {\"cells\": [{\"html\": \"<td><a '\n",
      " 'href=\\\\\"/wiki/Northern_Ireland_general_election,_1933\\\\\" '\n",
      " 'class=\\\\\"mw-redirect\\\\\" title=\\\\\"Northern Ireland general election, '\n",
      " '1933\\\\\">1933</a>\\\\n</td>\"}], \"stylingHtml\": \"\\\\n<tr>\\\\n\"}, {\"cells\": '\n",
      " '[{\"html\": \"<td><a href=\\\\\"/wiki/Northern_Ireland_general_election,_1938\\\\\" '\n",
      " 'class=\\\\\"mw-redirect\\\\\" title=\\\\\"Northern Ireland general election, '\n",
      " '1938\\\\\">1938</a>\\\\n</td>\"}, {\"html\": \"\\\\n<td rowspan=\\\\\"2\\\\\"><a '\n",
      " 'href=\\\\\"/wiki/John_Patrick_(Northern_Ireland_politician)\\\\\" title=\\\\\"John '\n",
      " 'Patrick (Northern Ireland politician)\\\\\">John Patrick</a>\\\\n</td>\"}], '\n",
      " '\"stylingHtml\": \"\\\\n<tr>\\\\n\"}, {\"cells\": [{\"html\": \"<td><a '\n",
      " 'href=\\\\\"/wiki/Northern_Ireland_general_election,_1945\\\\\" '\n",
      " 'class=\\\\\"mw-redirect\\\\\" title=\\\\\"Northern Ireland general election, '\n",
      " '1945\\\\\">1945</a>\\\\n</td>\"}], \"stylingHtml\": \"\\\\n<tr>\\\\n\"}, {\"cells\": '\n",
      " '[{\"html\": \"<td><a href=\\\\\"/wiki/Northern_Ireland_general_election,_1949\\\\\" '\n",
      " 'class=\\\\\"mw-redirect\\\\\" title=\\\\\"Northern Ireland general election, '\n",
      " '1949\\\\\">1949</a>\\\\n</td>\"}, {\"html\": \"\\\\n<td rowspan=\\\\\"1\\\\\"><a '\n",
      " 'href=\\\\\"/wiki/Robert_Nichol_Wilson\\\\\" title=\\\\\"Robert Nichol '\n",
      " 'Wilson\\\\\">Robert Nichol Wilson</a>\\\\n</td>\"}], \"stylingHtml\": \"\\\\n<tr>\\\\n\"}, '\n",
      " '{\"cells\": [{\"html\": \"<td><a '\n",
      " 'href=\\\\\"/wiki/Northern_Ireland_general_election,_1953\\\\\" '\n",
      " 'class=\\\\\"mw-redirect\\\\\" title=\\\\\"Northern Ireland general election, '\n",
      " '1953\\\\\">1953</a>\\\\n</td>\"}, {\"html\": \"\\\\n<td rowspan=\\\\\"5\\\\\"><a '\n",
      " 'href=\\\\\"/wiki/Robert_Simpson_(Northern_Ireland_politician)\\\\\" '\n",
      " 'title=\\\\\"Robert Simpson (Northern Ireland politician)\\\\\">Robert '\n",
      " 'Simpson</a>\\\\n</td>\"}], \"stylingHtml\": \"\\\\n<tr>\\\\n\"}, {\"cells\": [{\"html\": '\n",
      " '\"<td><a href=\\\\\"/wiki/Northern_Ireland_general_election,_1958\\\\\" '\n",
      " 'class=\\\\\"mw-redirect\\\\\" title=\\\\\"Northern Ireland general election, '\n",
      " '1958\\\\\">1958</a>\\\\n</td>\"}], \"stylingHtml\": \"\\\\n<tr>\\\\n\"}, {\"cells\": '\n",
      " '[{\"html\": \"<td><a href=\\\\\"/wiki/Northern_Ireland_general_election,_1962\\\\\" '\n",
      " 'class=\\\\\"mw-redirect\\\\\" title=\\\\\"Northern Ireland general election, '\n",
      " '1962\\\\\">1962</a>\\\\n</td>\"}], \"stylingHtml\": \"\\\\n<tr>\\\\n\"}, {\"cells\": '\n",
      " '[{\"html\": \"<td><a href=\\\\\"/wiki/Northern_Ireland_general_election,_1965\\\\\" '\n",
      " 'class=\\\\\"mw-redirect\\\\\" title=\\\\\"Northern Ireland general election, '\n",
      " '1965\\\\\">1965</a>\\\\n</td>\"}], \"stylingHtml\": \"\\\\n<tr>\\\\n\"}, {\"cells\": '\n",
      " '[{\"html\": \"<td><a href=\\\\\"/wiki/Northern_Ireland_general_election,_1969\\\\\" '\n",
      " 'class=\\\\\"mw-redirect\\\\\" title=\\\\\"Northern Ireland general election, '\n",
      " '1969\\\\\">1969</a>\\\\n</td>\"}], \"stylingHtml\": \"\\\\n<tr>\\\\n\"}, {\"cells\": '\n",
      " '[{\"html\": \"<td>\\\\n</td>\"}, {\"html\": \"\\\\n<td><a '\n",
      " 'href=\\\\\"/wiki/Northern_Ireland_Constitution_Act_1973\\\\\" title=\\\\\"Northern '\n",
      " 'Ireland Constitution Act 1973\\\\\">1973</a>\\\\n</td>\"}, {\"html\": \"\\\\n<td '\n",
      " 'colspan=\\\\\"3\\\\\"><i>Constituency abolished</i>\\\\n</td>\"}], \"stylingHtml\": '\n",
      " '\"\\\\n<tr>\\\\n\"}], \"stylingHtml\": \"<table class=\\\\\"wikitable\\\\\">\\\\n\\\\n<tbody>\"}')\n"
     ]
    }
   ],
   "source": [
    "input_file_path = '../data/100tables.json'\n",
    "file = open(input_file_path, 'r')\n",
    "for line in file:\n",
    "    jsonTable = json.loads(line)\n",
    "    print(jsonTable['pgId'])\n",
    "    html = getRawHtml(jsonTable)\n",
    "    htmlTables = getTables(html)\n",
    "    pprint(toJson(htmlTables[0]))\n",
    "    break\n",
    "    "
   ]
  }
 ],
 "metadata": {
  "kernelspec": {
   "display_name": "Python 3",
   "language": "python",
   "name": "python3"
  },
  "language_info": {
   "codemirror_mode": {
    "name": "ipython",
    "version": 3
   },
   "file_extension": ".py",
   "mimetype": "text/x-python",
   "name": "python",
   "nbconvert_exporter": "python",
   "pygments_lexer": "ipython3",
   "version": "3.6.7"
  }
 },
 "nbformat": 4,
 "nbformat_minor": 2
}
