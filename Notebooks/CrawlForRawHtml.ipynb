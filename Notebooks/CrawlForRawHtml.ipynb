{
 "cells": [
  {
   "cell_type": "code",
   "execution_count": 15,
   "metadata": {},
   "outputs": [],
   "source": [
    "import os\n",
    "import json\n",
    "import requests"
   ]
  },
  {
   "cell_type": "code",
   "execution_count": 16,
   "metadata": {},
   "outputs": [],
   "source": [
    "def getTables(html):\n",
    "    splits = html.text.split('<table class=\"wikitable')\n",
    "    if len(splits) != 2:\n",
    "        print(\"there are the wrong number of tables on this page: \" + str(len(splits) -1))\n",
    "        return \n",
    "    htmlTable = splits[1].split('</table>')[0]\n",
    "    if '<table' in htmlTable:\n",
    "        print('there was a subtable we cannot deal with')\n",
    "        return\n",
    "    return htmlTable"
   ]
  },
  {
   "cell_type": "code",
   "execution_count": 17,
   "metadata": {},
   "outputs": [],
   "source": [
    "def getRawHtml(table):\n",
    "    pgId = table['pgId']\n",
    "    url = 'https://en.wikipedia.org/?curid=' + str(pgId)\n",
    "    response = requests.get(url)\n",
    "    if getTables(response):\n",
    "        print(pgId)"
   ]
  },
  {
   "cell_type": "code",
   "execution_count": null,
   "metadata": {},
   "outputs": [
    {
     "name": "stdout",
     "output_type": "stream",
     "text": [
      "there are the wrong number of tables on this page: 11\n",
      "1000006\n",
      "10000088\n",
      "10000218\n"
     ]
    }
   ],
   "source": [
    "input_file_path = '../data/100tables.json'\n",
    "file = open(input_file_path, 'r')\n",
    "for line in file:\n",
    "    table = json.loads(line)\n",
    "    getRawHtml(table)"
   ]
  }
 ],
 "metadata": {
  "kernelspec": {
   "display_name": "Python 3",
   "language": "python",
   "name": "python3"
  },
  "language_info": {
   "codemirror_mode": {
    "name": "ipython",
    "version": 3
   },
   "file_extension": ".py",
   "mimetype": "text/x-python",
   "name": "python",
   "nbconvert_exporter": "python",
   "pygments_lexer": "ipython3",
   "version": "3.6.7"
  }
 },
 "nbformat": 4,
 "nbformat_minor": 2
}
