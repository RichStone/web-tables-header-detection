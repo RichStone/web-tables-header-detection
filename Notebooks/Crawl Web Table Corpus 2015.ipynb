{
 "cells": [
  {
   "cell_type": "markdown",
   "metadata": {},
   "source": [
    "# Requirements"
   ]
  },
  {
   "cell_type": "code",
   "execution_count": 48,
   "metadata": {},
   "outputs": [],
   "source": [
    "import os\n",
    "import sys\n",
    "import pandas as pd\n",
    "from premailer import transform\n",
    "import requests\n",
    "from pymongo import MongoClient\n",
    "from datetime import datetime\n",
    "from urllib.parse import urlsplit\n",
    "import re\n",
    "from bs4 import BeautifulSoup\n",
    "from bs4.element import Tag\n",
    "from cssutils import parseStyle"
   ]
  },
  {
   "cell_type": "markdown",
   "metadata": {},
   "source": [
    "# Load page urls from sample json"
   ]
  },
  {
   "cell_type": "code",
   "execution_count": null,
   "metadata": {},
   "outputs": [],
   "source": [
    "def wrapJSONObjectLineIntoTable(inputFilePath, outputFilePath):\n",
    "    inputFile = open(inputFilePath, 'r')\n",
    "    outputFile = open(outputFilePath, 'w')\n",
    "\n",
    "    outputFile.write('[')\n",
    "\n",
    "    previousLine = False\n",
    "    for tableLineJsonObject in inputFile:\n",
    "        if (previousLine):\n",
    "            outputFile.write(previousLine + ',')\n",
    "        previousLine = tableLineJsonObject\n",
    "    if (previousLine):\n",
    "        outputFile.write(previousLine)\n",
    "\n",
    "    outputFile.write(']')\n",
    "\n",
    "    inputFile.close()\n",
    "    outputFile.close()"
   ]
  },
  {
   "cell_type": "code",
   "execution_count": null,
   "metadata": {},
   "outputs": [],
   "source": [
    "inputFilePath = os.path.join('..', 'data', 'sample.json')\n",
    "outputFilePath = os.path.join('..', 'data', 'sample_fixed.json')\n",
    "if not os.path.isfile(outputFilePath):\n",
    "    wrapJSONObjectLineIntoTable(inputFilePath, outputFilePath)"
   ]
  },
  {
   "cell_type": "code",
   "execution_count": null,
   "metadata": {},
   "outputs": [],
   "source": [
    "sample = pd.read_json(os.path.join('..', 'data', 'sample_fixed.json'))\n",
    "urls = sample.loc[sample['tableType'] == 'RELATION']['url'].unique()\n",
    "print('Amount of unique web pages: ' + str(len(urls)))"
   ]
  },
  {
   "cell_type": "markdown",
   "metadata": {},
   "source": [
    "# Crawl"
   ]
  },
  {
   "cell_type": "code",
   "execution_count": null,
   "metadata": {},
   "outputs": [],
   "source": [
    "def getBaseUrl(url):\n",
    "    return \"{0.scheme}://{0.netloc}/\".format(urlsplit(url))\n",
    "\n",
    "def crawl(url):\n",
    "    html = requests.get(url, timeout=10).text\n",
    "    htmlWithInlineCSS = transform(\n",
    "        str(html), \n",
    "        exclude_pseudoclasses=True,\n",
    "        include_star_selectors=True,\n",
    "        disable_validation=True,\n",
    "        cssutils_logging_level='CRITICAL',\n",
    "        base_url=getBaseUrl(url))\n",
    "    return htmlWithInlineCSS"
   ]
  },
  {
   "cell_type": "code",
   "execution_count": null,
   "metadata": {},
   "outputs": [],
   "source": [
    "def sequenceCrawl():\n",
    "    client = MongoClient()\n",
    "    db = client.bob\n",
    "    wtcPages = db.wtcPages\n",
    "    for index, url in enumerate(urls):\n",
    "        print('Progress: ' + str(index + 1) + ' URL: ' + url)\n",
    "        try:\n",
    "            inlineHTML = crawl(url)\n",
    "            inlineHTML = inlineHTML.replace('\\n', '')\n",
    "            inlineHTML = inlineHTML.replace('\\t', '')\n",
    "            wtcPages.insert_one({ 'url': url, 'html': inlineHTML})\n",
    "        except KeyboardInterrupt:\n",
    "            break\n",
    "        except:\n",
    "            print(sys.exc_info()[0], \" occured.\")\n",
    "    client.close()"
   ]
  },
  {
   "cell_type": "code",
   "execution_count": null,
   "metadata": {},
   "outputs": [],
   "source": [
    "print('Begin time: ' + str(datetime.now()))\n",
    "sequenceCrawl()\n",
    "print('End time: ' + str(datetime.now()))"
   ]
  },
  {
   "cell_type": "markdown",
   "metadata": {},
   "source": [
    "# Extract tables"
   ]
  },
  {
   "cell_type": "code",
   "execution_count": 8,
   "metadata": {},
   "outputs": [],
   "source": [
    "client = MongoClient()\n",
    "db = client.bob\n",
    "wtcPages = db.wtcPages\n",
    "cursor = wtcPages.find({})\n",
    "pages = pd.DataFrame(list(cursor))\n",
    "client.close()"
   ]
  },
  {
   "cell_type": "code",
   "execution_count": 56,
   "metadata": {},
   "outputs": [],
   "source": [
    "HEADLINE_PATTERN = re.compile('(h|H)\\d')\n",
    "LABEL_CONTROLS = [\n",
    "    {\n",
    "        'label': 'Header',\n",
    "        'color': 'light-blue'\n",
    "    }, {\n",
    "        'label': 'Data',\n",
    "        'color': 'lime'\n",
    "    }, {\n",
    "        'label': 'Other',\n",
    "        'color': 'orange'\n",
    "    }\n",
    "];\n",
    "\n",
    "def extractPageTitle(soup):\n",
    "    headlines = soup.select('h1')\n",
    "    return headlines[0].text if len(headlines) > 0 else 'N/A'\n",
    "\n",
    "def extractTableTitle(table):\n",
    "    for sibling in table.previous_siblings:\n",
    "        if (sibling is not None and sibling.name is not None and HEADLINE_PATTERN.match(sibling.name)):\n",
    "            return sibling.text\n",
    "    return 'N/A'\n",
    "\n",
    "def addLabelControls(row, rowIndex, soup):\n",
    "    labelControlTag = soup.new_tag(\n",
    "        'th',\n",
    "        attrs={\n",
    "            'class': 'flex space-evenly'\n",
    "        }\n",
    "    )\n",
    "    for labelControl in LABEL_CONTROLS:\n",
    "        labelControlButton = soup.new_tag(\n",
    "            'a',\n",
    "            attrs={\n",
    "                'class': 'labelButton waves-effect waves-light btn-small ' + labelControl['color'],\n",
    "                'onClick': 'annotate(' + str(rowIndex) + ', \"' + labelControl['label'] + '\");',\n",
    "            }\n",
    "        )\n",
    "        labelControlButton.string = labelControl['label']\n",
    "        labelControlTag.append(labelControlButton)\n",
    "    row.insert(0, labelControlTag)\n",
    "    \n",
    "def tagRow(row, rowIndex, soup, isHead=False):\n",
    "    row['data-label'] = 'Header' if isHead else 'Data'\n",
    "    row['data-row-index'] = rowIndex\n",
    "    addLabelControls(row, rowIndex, soup)\n",
    "    \n",
    "def isHeaderRow(row):\n",
    "    thTags = row.find_all('th', recursive=False)\n",
    "    childCount = len(row.contents)\n",
    "    return childCount == len(thTags) or row.parent.name == 'thead'\n",
    "\n",
    "def tagRows(table, soup):\n",
    "    rows = table.find_all('tr')\n",
    "    annotations = []\n",
    "    for rowIndex, row in enumerate(rows):\n",
    "        isHeader = isHeaderRow(row)\n",
    "        tagRow(row, rowIndex, soup, isHeader)  \n",
    "        annotations.append('Header' if isHeader else 'Data')\n",
    "    return annotations\n",
    "\n",
    "def removeTableWidthLimitation(table):\n",
    "    if not table.has_attr('style'):\n",
    "        return\n",
    "    tableStyle = parseStyle(table['style'])\n",
    "    tableStyle['width'] = '100%'\n",
    "    tableStyle['font-size'] = '100%'\n",
    "    table['style'] = tableStyle.cssText\n",
    "        \n",
    "def extractTableInformation(table, pageID, tableIndex, pageTitle, soup, url):\n",
    "    extractedInformation = {\n",
    "        'pageID': pageID,\n",
    "        'tableIndex': tableIndex,\n",
    "        'pageTitle': pageTitle,\n",
    "        'url': url\n",
    "    }\n",
    "    extractedInformation['html'] = table.prettify()\n",
    "    annotations = tagRows(table, soup)\n",
    "    removeTableWidthLimitation(table)\n",
    "    extractedInformation['taggedHtml'] = table.prettify()\n",
    "    extractedInformation['annotations'] = annotations\n",
    "    extractedInformation['tableTitle'] = extractTableTitle(table)\n",
    "    return extractedInformation\n",
    "\n",
    "def hasNestedTable(table):\n",
    "    return len(table.select('table')) > 0\n",
    "\n",
    "def extractTables(page):\n",
    "    soup = BeautifulSoup(page['html'])\n",
    "    pageTitle = extractPageTitle(soup)\n",
    "    \n",
    "    tableTags = soup.select('table')\n",
    "    tableTags = list(filter(lambda table: not hasNestedTable(table), tableTags))\n",
    "    tableIDs = list(sample.loc[sample['url'] == page['url']]['tableNum'].values)\n",
    "    tableIDs = list(filter(lambda tableID: tableID < len(tableTags), tableIDs))\n",
    "    extractedTables = list(map(\n",
    "        lambda tableID: extractTableInformation(tableTags[tableID], page['_id'], int(tableID), pageTitle, soup, page['url']), \n",
    "        tableIDs\n",
    "    ))\n",
    "    return extractedTables"
   ]
  },
  {
   "cell_type": "code",
   "execution_count": 58,
   "metadata": {},
   "outputs": [],
   "source": [
    "client = MongoClient()\n",
    "db = client.bob\n",
    "wtcTables = db.wtcTables\n",
    "for extractedTables in pages.apply(extractTables, axis='columns').values:\n",
    "    if len(extractedTables) > 0:\n",
    "        wtcTables.insert_many(extractedTables)\n",
    "client.close()"
   ]
  },
  {
   "cell_type": "markdown",
   "metadata": {},
   "source": [
    "# Select 300 tables for labeling"
   ]
  },
  {
   "cell_type": "code",
   "execution_count": 60,
   "metadata": {},
   "outputs": [],
   "source": [
    "client = MongoClient()\n",
    "db = client.bob\n",
    "wtcTables = db.wtcTables\n",
    "cursor = wtcTables.find({})\n",
    "tables = pd.DataFrame(list(cursor))\n",
    "client.close()"
   ]
  },
  {
   "cell_type": "code",
   "execution_count": 63,
   "metadata": {},
   "outputs": [],
   "source": [
    "labelTables = tables.sample(n=300)\n",
    "labelTables1 = tables.head(150)\n",
    "labelTables2 = tables.tail(150)"
   ]
  },
  {
   "cell_type": "code",
   "execution_count": 64,
   "metadata": {},
   "outputs": [],
   "source": [
    "client = MongoClient()\n",
    "db = client.bob\n",
    "labelTables1Collection = db.wtcLabelTables1\n",
    "labelTables1Collection.insert_many(labelTables1.to_dict('records'))\n",
    "labelTables2Collection = db.wtcLabelTables2\n",
    "labelTables2Collection.insert_many(labelTables2.to_dict('records'))\n",
    "client.close()"
   ]
  }
 ],
 "metadata": {
  "kernelspec": {
   "display_name": "Python 3",
   "language": "python",
   "name": "python3"
  },
  "language_info": {
   "codemirror_mode": {
    "name": "ipython",
    "version": 3
   },
   "file_extension": ".py",
   "mimetype": "text/x-python",
   "name": "python",
   "nbconvert_exporter": "python",
   "pygments_lexer": "ipython3",
   "version": "3.7.3"
  }
 },
 "nbformat": 4,
 "nbformat_minor": 2
}
