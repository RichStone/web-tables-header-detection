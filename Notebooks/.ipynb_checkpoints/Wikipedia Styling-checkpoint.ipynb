{
 "cells": [
  {
   "cell_type": "code",
   "execution_count": 154,
   "metadata": {},
   "outputs": [],
   "source": [
    "import os\n",
    "import json\n",
    "import re\n",
    "import pandas as pd\n",
    "import seaborn as sns"
   ]
  },
  {
   "cell_type": "markdown",
   "metadata": {},
   "source": [
    "Before running this notebook on a file it needs to get transformed first, since the file do not contain valid Json since the ',' character is missing which separates the table elements in the array."
   ]
  },
  {
   "cell_type": "code",
   "execution_count": 219,
   "metadata": {},
   "outputs": [
    {
     "name": "stdout",
     "output_type": "stream",
     "text": [
      "Done.\n"
     ]
    }
   ],
   "source": [
    "inputFilePath = os.path.join(\"data\", \"wikipedia_0_5000.json\")\n",
    "outputFilePath = os.path.join(\"data\", \"wikipedia_0_5000_fixed.json\")\n",
    "inputFile = open(inputFilePath, \"r\")\n",
    "outputFile = open(outputFilePath, \"w\")\n",
    "\n",
    "outputFile.write('[')\n",
    "\n",
    "previousLine = False\n",
    "for tableLineJsonObject in inputFile:\n",
    "    if (previousLine):\n",
    "        outputFile.write(previousLine + ',')\n",
    "    previousLine = tableLineJsonObject\n",
    "if (previousLine):\n",
    "    outputFile.write(previousLine)\n",
    "\n",
    "outputFile.write(']')\n",
    "\n",
    "inputFile.close()\n",
    "outputFile.close()\n",
    "print(\"Done.\")"
   ]
  },
  {
   "cell_type": "code",
   "execution_count": 220,
   "metadata": {},
   "outputs": [],
   "source": [
    "df = pd.read_json(os.path.join(\"data\", \"wikipedia_0_5000_fixed.json\"))"
   ]
  },
  {
   "cell_type": "markdown",
   "metadata": {},
   "source": [
    "Each tableData entry represents a list where each element represents a row. Each row consists of another list where each element represents a cell in the list. The following methods extract the HTML from the tableData and tableHeader column and append the result into the column named <code>HTML</code>"
   ]
  },
  {
   "cell_type": "code",
   "execution_count": 221,
   "metadata": {},
   "outputs": [],
   "source": [
    "def extractRowHtml(wikiTableRow):\n",
    "    extractedtdHtmlStrings = list([wikiTableCell['tdHtmlString'] for wikiTableCell in wikiTableRow])\n",
    "    return '<tr>' + ''.join(extractedtdHtmlStrings) + '</tr>'\n",
    "\n",
    "def extractTableHtml(df):\n",
    "    headerRowHtmlStrings = '<thead>' + ''.join(list(map(extractRowHtml, df['tableHeaders']))) + '</thead>'\n",
    "    dataRowHtmlStrings = '<tbody>' + ''.join(list(map(extractRowHtml, df['tableData']))) + '</tbody>'\n",
    "    return '<table>' + headerRowHtmlStrings + dataRowHtmlStrings + '</table>'\n",
    "\n",
    "df['HTML'] = df.apply(extractTableHtml, axis='columns')"
   ]
  },
  {
   "cell_type": "code",
   "execution_count": 222,
   "metadata": {
    "scrolled": false
   },
   "outputs": [
    {
     "data": {
      "text/html": [
       "<div>\n",
       "<style scoped>\n",
       "    .dataframe tbody tr th:only-of-type {\n",
       "        vertical-align: middle;\n",
       "    }\n",
       "\n",
       "    .dataframe tbody tr th {\n",
       "        vertical-align: top;\n",
       "    }\n",
       "\n",
       "    .dataframe thead th {\n",
       "        text-align: right;\n",
       "    }\n",
       "</style>\n",
       "<table border=\"1\" class=\"dataframe\">\n",
       "  <thead>\n",
       "    <tr style=\"text-align: right;\">\n",
       "      <th></th>\n",
       "      <th>_id</th>\n",
       "      <th>numCols</th>\n",
       "      <th>numDataRows</th>\n",
       "      <th>numHeaderRows</th>\n",
       "      <th>numericColumns</th>\n",
       "      <th>order</th>\n",
       "      <th>pgId</th>\n",
       "      <th>pgTitle</th>\n",
       "      <th>sectionTitle</th>\n",
       "      <th>tableCaption</th>\n",
       "      <th>tableData</th>\n",
       "      <th>tableHeaders</th>\n",
       "      <th>tableId</th>\n",
       "      <th>HTML</th>\n",
       "    </tr>\n",
       "  </thead>\n",
       "  <tbody>\n",
       "    <tr>\n",
       "      <th>0</th>\n",
       "      <td>10000032-1</td>\n",
       "      <td>4</td>\n",
       "      <td>11</td>\n",
       "      <td>1</td>\n",
       "      <td>[1]</td>\n",
       "      <td>0.535975</td>\n",
       "      <td>10000032</td>\n",
       "      <td>Mid Antrim (Northern Ireland Parliament consti...</td>\n",
       "      <td>Members of Parliament</td>\n",
       "      <td>Members of Parliament</td>\n",
       "      <td>[[{'cellID': -1, 'textTokens': [], 'text': '',...</td>\n",
       "      <td>[[{'cellID': -1, 'textTokens': [], 'text': 'El...</td>\n",
       "      <td>1</td>\n",
       "      <td>&lt;table&gt;&lt;thead&gt;&lt;tr&gt;&lt;th colspan=\"2\" rowspan=\"1\"&gt;...</td>\n",
       "    </tr>\n",
       "    <tr>\n",
       "      <th>1</th>\n",
       "      <td>1000006-1</td>\n",
       "      <td>4</td>\n",
       "      <td>21</td>\n",
       "      <td>1</td>\n",
       "      <td>[]</td>\n",
       "      <td>0.856769</td>\n",
       "      <td>1000006</td>\n",
       "      <td>Römer (crater)</td>\n",
       "      <td>Satellite craters</td>\n",
       "      <td>Satellite craters</td>\n",
       "      <td>[[{'cellID': -1, 'textTokens': [], 'text': 'A'...</td>\n",
       "      <td>[[{'cellID': -1, 'textTokens': [], 'text': 'Rö...</td>\n",
       "      <td>1</td>\n",
       "      <td>&lt;table&gt;&lt;thead&gt;&lt;tr&gt;&lt;th colspan=\"1\" rowspan=\"1\"&gt;...</td>\n",
       "    </tr>\n",
       "    <tr>\n",
       "      <th>2</th>\n",
       "      <td>10000088-1</td>\n",
       "      <td>2</td>\n",
       "      <td>1</td>\n",
       "      <td>3</td>\n",
       "      <td>[]</td>\n",
       "      <td>0.318258</td>\n",
       "      <td>10000088</td>\n",
       "      <td>Whispermoon</td>\n",
       "      <td></td>\n",
       "      <td>Track listing</td>\n",
       "      <td>[[{'cellID': -1, 'textTokens': [], 'text': 'Al...</td>\n",
       "      <td>[[{'cellID': -1, 'textTokens': [], 'text': 'Pr...</td>\n",
       "      <td>1</td>\n",
       "      <td>&lt;table&gt;&lt;thead&gt;&lt;tr&gt;&lt;th colspan=\"2\" rowspan=\"1\" ...</td>\n",
       "    </tr>\n",
       "    <tr>\n",
       "      <th>3</th>\n",
       "      <td>10000218-1</td>\n",
       "      <td>2</td>\n",
       "      <td>6</td>\n",
       "      <td>1</td>\n",
       "      <td>[]</td>\n",
       "      <td>0.553872</td>\n",
       "      <td>10000218</td>\n",
       "      <td>Khalsa Diwan Society Vancouver</td>\n",
       "      <td>First executive committee</td>\n",
       "      <td>First executive committee</td>\n",
       "      <td>[[{'cellID': -1, 'textTokens': [], 'text': 'Pr...</td>\n",
       "      <td>[[{'cellID': -1, 'textTokens': [], 'text': 'Ti...</td>\n",
       "      <td>1</td>\n",
       "      <td>&lt;table&gt;&lt;thead&gt;&lt;tr&gt;&lt;th colspan=\"1\" rowspan=\"1\"&gt;...</td>\n",
       "    </tr>\n",
       "    <tr>\n",
       "      <th>4</th>\n",
       "      <td>10000228-1</td>\n",
       "      <td>2</td>\n",
       "      <td>7</td>\n",
       "      <td>1</td>\n",
       "      <td>[1]</td>\n",
       "      <td>0.951118</td>\n",
       "      <td>10000228</td>\n",
       "      <td>Julien Leparoux</td>\n",
       "      <td>Year-end charts</td>\n",
       "      <td>Year-end charts</td>\n",
       "      <td>[[{'cellID': -1, 'textTokens': [], 'text': 'Na...</td>\n",
       "      <td>[[{'cellID': -1, 'textTokens': [], 'text': 'Ch...</td>\n",
       "      <td>1</td>\n",
       "      <td>&lt;table&gt;&lt;thead&gt;&lt;tr&gt;&lt;th colspan=\"1\" rowspan=\"1\"&gt;...</td>\n",
       "    </tr>\n",
       "  </tbody>\n",
       "</table>\n",
       "</div>"
      ],
      "text/plain": [
       "          _id  numCols  numDataRows  numHeaderRows numericColumns     order  \\\n",
       "0  10000032-1        4           11              1            [1]  0.535975   \n",
       "1   1000006-1        4           21              1             []  0.856769   \n",
       "2  10000088-1        2            1              3             []  0.318258   \n",
       "3  10000218-1        2            6              1             []  0.553872   \n",
       "4  10000228-1        2            7              1            [1]  0.951118   \n",
       "\n",
       "       pgId                                            pgTitle  \\\n",
       "0  10000032  Mid Antrim (Northern Ireland Parliament consti...   \n",
       "1   1000006                                     Römer (crater)   \n",
       "2  10000088                                        Whispermoon   \n",
       "3  10000218                     Khalsa Diwan Society Vancouver   \n",
       "4  10000228                                    Julien Leparoux   \n",
       "\n",
       "                sectionTitle               tableCaption  \\\n",
       "0      Members of Parliament      Members of Parliament   \n",
       "1          Satellite craters          Satellite craters   \n",
       "2                                         Track listing   \n",
       "3  First executive committee  First executive committee   \n",
       "4            Year-end charts            Year-end charts   \n",
       "\n",
       "                                           tableData  \\\n",
       "0  [[{'cellID': -1, 'textTokens': [], 'text': '',...   \n",
       "1  [[{'cellID': -1, 'textTokens': [], 'text': 'A'...   \n",
       "2  [[{'cellID': -1, 'textTokens': [], 'text': 'Al...   \n",
       "3  [[{'cellID': -1, 'textTokens': [], 'text': 'Pr...   \n",
       "4  [[{'cellID': -1, 'textTokens': [], 'text': 'Na...   \n",
       "\n",
       "                                        tableHeaders  tableId  \\\n",
       "0  [[{'cellID': -1, 'textTokens': [], 'text': 'El...        1   \n",
       "1  [[{'cellID': -1, 'textTokens': [], 'text': 'Rö...        1   \n",
       "2  [[{'cellID': -1, 'textTokens': [], 'text': 'Pr...        1   \n",
       "3  [[{'cellID': -1, 'textTokens': [], 'text': 'Ti...        1   \n",
       "4  [[{'cellID': -1, 'textTokens': [], 'text': 'Ch...        1   \n",
       "\n",
       "                                                HTML  \n",
       "0  <table><thead><tr><th colspan=\"2\" rowspan=\"1\">...  \n",
       "1  <table><thead><tr><th colspan=\"1\" rowspan=\"1\">...  \n",
       "2  <table><thead><tr><th colspan=\"2\" rowspan=\"1\" ...  \n",
       "3  <table><thead><tr><th colspan=\"1\" rowspan=\"1\">...  \n",
       "4  <table><thead><tr><th colspan=\"1\" rowspan=\"1\">...  "
      ]
     },
     "execution_count": 222,
     "metadata": {},
     "output_type": "execute_result"
    }
   ],
   "source": [
    "df.head()"
   ]
  },
  {
   "cell_type": "code",
   "execution_count": 223,
   "metadata": {},
   "outputs": [
    {
     "data": {
      "image/png": "[encoded data removed]",
      "text/plain": [
       "<Figure size 1440x720 with 1 Axes>"
      ]
     },
     "metadata": {},
     "output_type": "display_data"
    }
   ],
   "source": [
    "styleTagPerTable = df['HTML'].str.count(\"<bold>|<b>|<\\w+? style=(\\\"|\\').+?(\\\"|\\').*?>\", re.IGNORECASE)\n",
    "styleTagPerTableGroubedByCount = styleTagPerTable.value_counts()\n",
    "sns.set(rc={'figure.figsize':(20,10)})\n",
    "styleTagPerTablePlot = sns.distplot(styleTagPerTableGroubedByCount)\n",
    "# styleTagPerTablePlot.set_yscale('log')"
   ]
  },
  {
   "cell_type": "code",
   "execution_count": 226,
   "metadata": {},
   "outputs": [
    {
     "data": {
      "text/plain": [
       "0      3745\n",
       "1       400\n",
       "2       293\n",
       "3        60\n",
       "4       146\n",
       "5        25\n",
       "6        61\n",
       "7        11\n",
       "8        51\n",
       "9         9\n",
       "10       21\n",
       "11        7\n",
       "12       18\n",
       "13        6\n",
       "14       13\n",
       "15        9\n",
       "16        6\n",
       "17        1\n",
       "18        3\n",
       "20        8\n",
       "21        5\n",
       "23        2\n",
       "24        6\n",
       "25        1\n",
       "26        2\n",
       "27        4\n",
       "28        4\n",
       "29        1\n",
       "30       17\n",
       "31        2\n",
       "       ... \n",
       "46        2\n",
       "48        2\n",
       "50        4\n",
       "51        1\n",
       "52        1\n",
       "54        1\n",
       "56        2\n",
       "57        1\n",
       "58        1\n",
       "60        3\n",
       "63        3\n",
       "64        2\n",
       "66        2\n",
       "75        1\n",
       "85        1\n",
       "88        1\n",
       "92        1\n",
       "104       1\n",
       "126       1\n",
       "147       1\n",
       "155       1\n",
       "164       1\n",
       "171       1\n",
       "192       1\n",
       "240       2\n",
       "308       1\n",
       "318       1\n",
       "340       1\n",
       "357       1\n",
       "548       1\n",
       "Name: HTML, Length: 68, dtype: int64"
      ]
     },
     "execution_count": 226,
     "metadata": {},
     "output_type": "execute_result"
    }
   ],
   "source": [
    "styleTagPerTableGroubedByCount.sort_index()"
   ]
  },
  {
   "cell_type": "code",
   "execution_count": 227,
   "metadata": {},
   "outputs": [
    {
     "name": "stdout",
     "output_type": "stream",
     "text": [
      "Total number of style attributes accross all tables: 11178\n"
     ]
    }
   ],
   "source": [
    "print(\"Total number of style attributes accross all tables: \" + str(styleTagPerTable.sum()))"
   ]
  },
  {
   "cell_type": "code",
   "execution_count": null,
   "metadata": {},
   "outputs": [],
   "source": []
  }
 ],
 "metadata": {
  "kernelspec": {
   "display_name": "Python 3",
   "language": "python",
   "name": "python3"
  },
  "language_info": {
   "codemirror_mode": {
    "name": "ipython",
    "version": 3
   },
   "file_extension": ".py",
   "mimetype": "text/x-python",
   "name": "python",
   "nbconvert_exporter": "python",
   "pygments_lexer": "ipython3",
   "version": "3.7.3"
  }
 },
 "nbformat": 4,
 "nbformat_minor": 2
}
