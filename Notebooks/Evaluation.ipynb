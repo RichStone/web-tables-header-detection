{
 "cells": [
  {
   "cell_type": "markdown",
   "metadata": {},
   "source": [
    "# Evaluation"
   ]
  },
  {
   "cell_type": "markdown",
   "metadata": {},
   "source": [
    "## Requirements"
   ]
  },
  {
   "cell_type": "code",
   "execution_count": 84,
   "metadata": {},
   "outputs": [],
   "source": [
    "import os\n",
    "import json\n",
    "import pandas as pd\n",
    "from pymongo import MongoClient\n",
    "from collections import Counter\n",
    "import matplotlib.pyplot as plt"
   ]
  },
  {
   "cell_type": "markdown",
   "metadata": {},
   "source": [
    "## Evaluation helper methods"
   ]
  },
  {
   "cell_type": "code",
   "execution_count": 74,
   "metadata": {},
   "outputs": [],
   "source": [
    "# Change global plot settings\n",
    "plt.rcParams.update({'font.size': 24})"
   ]
  },
  {
   "cell_type": "code",
   "execution_count": 48,
   "metadata": {},
   "outputs": [],
   "source": [
    "def labelBars(plot):\n",
    "    for p in plot.patches:\n",
    "        plot.annotate(\n",
    "            np.round(p.get_height(), decimals=2),\n",
    "            (\n",
    "                p.get_x() + p.get_width() / 2.,\n",
    "                p.get_height()\n",
    "            ),\n",
    "            ha='center',\n",
    "            va='center',\n",
    "            xytext=(0, 10),\n",
    "            textcoords='offset points'\n",
    "        )\n",
    "    return plot"
   ]
  },
  {
   "cell_type": "code",
   "execution_count": 119,
   "metadata": {
    "scrolled": false
   },
   "outputs": [
    {
     "data": {
      "text/html": [
       "<div>\n",
       "<style scoped>\n",
       "    .dataframe tbody tr th:only-of-type {\n",
       "        vertical-align: middle;\n",
       "    }\n",
       "\n",
       "    .dataframe tbody tr th {\n",
       "        vertical-align: top;\n",
       "    }\n",
       "\n",
       "    .dataframe thead th {\n",
       "        text-align: right;\n",
       "    }\n",
       "</style>\n",
       "<table border=\"1\" class=\"dataframe\">\n",
       "  <thead>\n",
       "    <tr style=\"text-align: right;\">\n",
       "      <th></th>\n",
       "      <th>_id</th>\n",
       "      <th>annotatedAt</th>\n",
       "      <th>annotations</th>\n",
       "      <th>features</th>\n",
       "      <th>html</th>\n",
       "      <th>logBin</th>\n",
       "      <th>pageID</th>\n",
       "      <th>pageTitle</th>\n",
       "      <th>predictions</th>\n",
       "      <th>tableIndex</th>\n",
       "      <th>tableTitle</th>\n",
       "      <th>taggedHtml</th>\n",
       "    </tr>\n",
       "  </thead>\n",
       "  <tbody>\n",
       "    <tr>\n",
       "      <th>0</th>\n",
       "      <td>5d020c07e7ee03eab39a8342</td>\n",
       "      <td>1.560438e+12</td>\n",
       "      <td>[Header, Data]</td>\n",
       "      <td>{'0': {'isPartiallyBoldBl': 0, 'isTHOrInTHead'...</td>\n",
       "      <td>&lt;table bgcolor=\"#f8f9fa\" border=\"1\" class=\"wik...</td>\n",
       "      <td>{'0': {'isPartiallyBoldBl': {'a': 0, 'b': 0}, ...</td>\n",
       "      <td>10002196</td>\n",
       "      <td>Got to Have Your Love</td>\n",
       "      <td>NaN</td>\n",
       "      <td>4</td>\n",
       "      <td>Release history[edit]</td>\n",
       "      <td>&lt;table bgcolor=\"#f8f9fa\" border=\"1\" class=\"wik...</td>\n",
       "    </tr>\n",
       "    <tr>\n",
       "      <th>1</th>\n",
       "      <td>5d020c07e7ee03eab39a8329</td>\n",
       "      <td>1.560440e+12</td>\n",
       "      <td>[Header, Data, Data, Data, Data, Data, Data]</td>\n",
       "      <td>{'0': {'isPartiallyBoldBl': 0, 'isTHOrInTHead'...</td>\n",
       "      <td>&lt;table bgcolor=\"#f8f9fa\" class=\"wikitable\" sty...</td>\n",
       "      <td>{'0': {'isPartiallyBoldBl': {'a': 0, 'b': 0}, ...</td>\n",
       "      <td>1000141</td>\n",
       "      <td>Thales (crater)</td>\n",
       "      <td>NaN</td>\n",
       "      <td>0</td>\n",
       "      <td>Satellite craters[edit]</td>\n",
       "      <td>&lt;table bgcolor=\"#f8f9fa\" class=\"wikitable\" sty...</td>\n",
       "    </tr>\n",
       "    <tr>\n",
       "      <th>2</th>\n",
       "      <td>5d020c07e7ee03eab39a831e</td>\n",
       "      <td>1.560438e+12</td>\n",
       "      <td>[Header, Header, Data, Data, Data, Other, Othe...</td>\n",
       "      <td>{'0': {'isPartiallyBoldBl': 0, 'isTHOrInTHead'...</td>\n",
       "      <td>&lt;table bgcolor=\"#f8f9fa\" border=\"1\" cellpaddin...</td>\n",
       "      <td>{'0': {'isPartiallyBoldBl': {'a': 0, 'b': 0}, ...</td>\n",
       "      <td>1000102</td>\n",
       "      <td>1977 Manitoba general election</td>\n",
       "      <td>NaN</td>\n",
       "      <td>2</td>\n",
       "      <td>Riding results[edit]</td>\n",
       "      <td>&lt;table bgcolor=\"#f8f9fa\" border=\"1\" cellpaddin...</td>\n",
       "    </tr>\n",
       "    <tr>\n",
       "      <th>3</th>\n",
       "      <td>5d020c07e7ee03eab39a8379</td>\n",
       "      <td>1.560438e+12</td>\n",
       "      <td>[Header, Data, Data, Data, Data, Data, Data, D...</td>\n",
       "      <td>{'0': {'isPartiallyBoldBl': 0, 'isTHOrInTHead'...</td>\n",
       "      <td>&lt;table bgcolor=\"#f8f9fa\" class=\"wikitable sort...</td>\n",
       "      <td>{'0': {'isPartiallyBoldBl': {'a': 0, 'b': 0}, ...</td>\n",
       "      <td>100039</td>\n",
       "      <td>Clarence Nash</td>\n",
       "      <td>NaN</td>\n",
       "      <td>2</td>\n",
       "      <td>Film[edit]</td>\n",
       "      <td>&lt;table bgcolor=\"#f8f9fa\" class=\"wikitable sort...</td>\n",
       "    </tr>\n",
       "    <tr>\n",
       "      <th>4</th>\n",
       "      <td>5d020c07e7ee03eab39a8382</td>\n",
       "      <td>1.560439e+12</td>\n",
       "      <td>[Data, Data, Data, Data, Data, Other]</td>\n",
       "      <td>{'0': {'isPartiallyBoldBl': 0, 'isTHOrInTHead'...</td>\n",
       "      <td>&lt;table bgcolor=\"#f8f9fa\" class=\"wikitable\" sty...</td>\n",
       "      <td>{'0': {'isPartiallyBoldBl': {'a': 0, 'b': 0}, ...</td>\n",
       "      <td>100040</td>\n",
       "      <td>Richmond Football Club</td>\n",
       "      <td>[Header, Data, Data, Data, Data, Other]</td>\n",
       "      <td>6</td>\n",
       "      <td>Club records[edit]</td>\n",
       "      <td>&lt;table bgcolor=\"#f8f9fa\" class=\"wikitable\" sty...</td>\n",
       "    </tr>\n",
       "  </tbody>\n",
       "</table>\n",
       "</div>"
      ],
      "text/plain": [
       "                        _id   annotatedAt  \\\n",
       "0  5d020c07e7ee03eab39a8342  1.560438e+12   \n",
       "1  5d020c07e7ee03eab39a8329  1.560440e+12   \n",
       "2  5d020c07e7ee03eab39a831e  1.560438e+12   \n",
       "3  5d020c07e7ee03eab39a8379  1.560438e+12   \n",
       "4  5d020c07e7ee03eab39a8382  1.560439e+12   \n",
       "\n",
       "                                         annotations  \\\n",
       "0                                     [Header, Data]   \n",
       "1       [Header, Data, Data, Data, Data, Data, Data]   \n",
       "2  [Header, Header, Data, Data, Data, Other, Othe...   \n",
       "3  [Header, Data, Data, Data, Data, Data, Data, D...   \n",
       "4              [Data, Data, Data, Data, Data, Other]   \n",
       "\n",
       "                                            features  \\\n",
       "0  {'0': {'isPartiallyBoldBl': 0, 'isTHOrInTHead'...   \n",
       "1  {'0': {'isPartiallyBoldBl': 0, 'isTHOrInTHead'...   \n",
       "2  {'0': {'isPartiallyBoldBl': 0, 'isTHOrInTHead'...   \n",
       "3  {'0': {'isPartiallyBoldBl': 0, 'isTHOrInTHead'...   \n",
       "4  {'0': {'isPartiallyBoldBl': 0, 'isTHOrInTHead'...   \n",
       "\n",
       "                                                html  \\\n",
       "0  <table bgcolor=\"#f8f9fa\" border=\"1\" class=\"wik...   \n",
       "1  <table bgcolor=\"#f8f9fa\" class=\"wikitable\" sty...   \n",
       "2  <table bgcolor=\"#f8f9fa\" border=\"1\" cellpaddin...   \n",
       "3  <table bgcolor=\"#f8f9fa\" class=\"wikitable sort...   \n",
       "4  <table bgcolor=\"#f8f9fa\" class=\"wikitable\" sty...   \n",
       "\n",
       "                                              logBin    pageID  \\\n",
       "0  {'0': {'isPartiallyBoldBl': {'a': 0, 'b': 0}, ...  10002196   \n",
       "1  {'0': {'isPartiallyBoldBl': {'a': 0, 'b': 0}, ...   1000141   \n",
       "2  {'0': {'isPartiallyBoldBl': {'a': 0, 'b': 0}, ...   1000102   \n",
       "3  {'0': {'isPartiallyBoldBl': {'a': 0, 'b': 0}, ...    100039   \n",
       "4  {'0': {'isPartiallyBoldBl': {'a': 0, 'b': 0}, ...    100040   \n",
       "\n",
       "                        pageTitle                              predictions  \\\n",
       "0           Got to Have Your Love                                      NaN   \n",
       "1                 Thales (crater)                                      NaN   \n",
       "2  1977 Manitoba general election                                      NaN   \n",
       "3                   Clarence Nash                                      NaN   \n",
       "4          Richmond Football Club  [Header, Data, Data, Data, Data, Other]   \n",
       "\n",
       "   tableIndex               tableTitle  \\\n",
       "0           4    Release history[edit]   \n",
       "1           0  Satellite craters[edit]   \n",
       "2           2     Riding results[edit]   \n",
       "3           2               Film[edit]   \n",
       "4           6       Club records[edit]   \n",
       "\n",
       "                                          taggedHtml  \n",
       "0  <table bgcolor=\"#f8f9fa\" border=\"1\" class=\"wik...  \n",
       "1  <table bgcolor=\"#f8f9fa\" class=\"wikitable\" sty...  \n",
       "2  <table bgcolor=\"#f8f9fa\" border=\"1\" cellpaddin...  \n",
       "3  <table bgcolor=\"#f8f9fa\" class=\"wikitable sort...  \n",
       "4  <table bgcolor=\"#f8f9fa\" class=\"wikitable\" sty...  "
      ]
     },
     "execution_count": 119,
     "metadata": {},
     "output_type": "execute_result"
    }
   ],
   "source": [
    "client = MongoClient()\n",
    "db = client.bob\n",
    "tables = db.tables\n",
    "cursor = tables.find({\"annotatedAt\" : {\"$exists\" : True}, \"skipped\": {\"$ne\": True}})\n",
    "tables = pd.DataFrame(list(cursor))\n",
    "client.close()\n",
    "tables.head()"
   ]
  },
  {
   "cell_type": "code",
   "execution_count": 120,
   "metadata": {},
   "outputs": [],
   "source": [
    "testTables = pd.DataFrame(json.load(open(os.path.join('..', 'data', 'test.json'), 'r')).values(), columns=['_id'])\n",
    "testTables = testTables['_id'].apply(lambda tableID: tables.loc[tables['_id'].astype(str) == tableID].iloc[0])"
   ]
  },
  {
   "cell_type": "code",
   "execution_count": 81,
   "metadata": {},
   "outputs": [],
   "source": [
    "trainTables = pd.DataFrame(json.load(open(os.path.join('..', 'data', 'train.json'), 'r')).values(), columns=['_id'])\n",
    "trainTables = trainTables['_id'].apply(lambda tableID: tables.loc[tables['_id'].astype(str) == tableID].iloc[0])"
   ]
  },
  {
   "cell_type": "markdown",
   "metadata": {},
   "source": [
    "### Table count per dataset"
   ]
  },
  {
   "cell_type": "code",
   "execution_count": 82,
   "metadata": {},
   "outputs": [
    {
     "name": "stdout",
     "output_type": "stream",
     "text": [
      "Total tables count:  929\n",
      "Training tables count:  650\n",
      "Test tables count:  279\n"
     ]
    }
   ],
   "source": [
    "print('Total tables count: ', len(tables))\n",
    "print('Training tables count: ', len(trainTables))\n",
    "print('Test tables count: ', len(testTables))"
   ]
  },
  {
   "cell_type": "markdown",
   "metadata": {},
   "source": [
    "### Avg. Table size (row count) per dataset"
   ]
  },
  {
   "cell_type": "code",
   "execution_count": 83,
   "metadata": {},
   "outputs": [
    {
     "name": "stdout",
     "output_type": "stream",
     "text": [
      "Avg. table size for training set:  15\n",
      "Avg. table size for training set:  15\n",
      "Avg. table size for training set:  15\n"
     ]
    }
   ],
   "source": [
    "def getRowCount(tables):\n",
    "    return tables.apply(lambda table: len(table['annotations']), axis='columns')\n",
    "\n",
    "print('Avg. table size for training set: ', round(getRowCount(trainTables).mean()))\n",
    "print('Avg. table size for training set: ', round(getRowCount(testTables).mean()))\n",
    "print('Avg. table size for training set: ', round(getRowCount(tables).mean()))"
   ]
  },
  {
   "cell_type": "markdown",
   "metadata": {},
   "source": [
    "## Dataset cell type ratios"
   ]
  },
  {
   "cell_type": "code",
   "execution_count": 33,
   "metadata": {},
   "outputs": [],
   "source": [
    "totalCounter = Counter([item for sublist in list(tables['annotations'].values) for item in sublist])\n",
    "trainCounter = Counter([item for sublist in list(trainTables['annotations'].values) for item in sublist])\n",
    "testCounter = Counter([item for sublist in list(testTables['annotations'].values) for item in sublist])"
   ]
  },
  {
   "cell_type": "code",
   "execution_count": 75,
   "metadata": {},
   "outputs": [
    {
     "data": {
      "text/plain": [
       "[Text(0, 0.5, 'Annotation'),\n",
       " Text(0.5, 0, 'Percentage'),\n",
       " Text(0.5, 1.0, 'Distribution of cell types accross datasets')]"
      ]
     },
     "execution_count": 75,
     "metadata": {},
     "output_type": "execute_result"
    },
    {
     "data": {
      "image/png": "[encoded data removed]",
      "text/plain": [
       "<Figure size 1440x720 with 1 Axes>"
      ]
     },
     "metadata": {
      "needs_background": "light"
     },
     "output_type": "display_data"
    }
   ],
   "source": [
    "def getRatio(counter):\n",
    "    total = sum(list(counter.values()))\n",
    "    return [counter[annotation] * 100.0 / total for annotation in ['Other', 'Header', 'Data']]\n",
    "    \n",
    "ratios = [getRatio(testCounter), getRatio(trainCounter), getRatio(totalCounter)]\n",
    "ratioLabels = ['Test', 'Train', 'Total']\n",
    "ratioDf = pd.DataFrame(ratios, index=ratioLabels, columns=['Other', 'Header', 'Data']).T\n",
    "ratioPlot = ratioDf.plot(kind='barh', figsize=(20, 10))\n",
    "ratioPlot.set(\n",
    "    xlabel=\"Percentage\",\n",
    "    ylabel=\"Annotation\", \n",
    "    title=\"Distribution of cell types accross datasets\"\n",
    ")"
   ]
  },
  {
   "cell_type": "markdown",
   "metadata": {},
   "source": [
    "## Correctly predicted tables"
   ]
  },
  {
   "cell_type": "code",
   "execution_count": 115,
   "metadata": {},
   "outputs": [
    {
     "data": {
      "text/html": [
       "<div>\n",
       "<style scoped>\n",
       "    .dataframe tbody tr th:only-of-type {\n",
       "        vertical-align: middle;\n",
       "    }\n",
       "\n",
       "    .dataframe tbody tr th {\n",
       "        vertical-align: top;\n",
       "    }\n",
       "\n",
       "    .dataframe thead th {\n",
       "        text-align: right;\n",
       "    }\n",
       "</style>\n",
       "<table border=\"1\" class=\"dataframe\">\n",
       "  <thead>\n",
       "    <tr style=\"text-align: right;\">\n",
       "      <th></th>\n",
       "      <th>_id</th>\n",
       "      <th>annotatedAt</th>\n",
       "      <th>annotations</th>\n",
       "      <th>features</th>\n",
       "      <th>html</th>\n",
       "      <th>logBin</th>\n",
       "      <th>pageID</th>\n",
       "      <th>pageTitle</th>\n",
       "      <th>predictions</th>\n",
       "      <th>tableIndex</th>\n",
       "      <th>tableTitle</th>\n",
       "      <th>taggedHtml</th>\n",
       "    </tr>\n",
       "  </thead>\n",
       "  <tbody>\n",
       "    <tr>\n",
       "      <th>0</th>\n",
       "      <td>5d020c07e7ee03eab39a8382</td>\n",
       "      <td>1.560439e+12</td>\n",
       "      <td>[Data, Data, Data, Data, Data, Other]</td>\n",
       "      <td>{'0': {'isPartiallyBoldBl': 0, 'isTHOrInTHead'...</td>\n",
       "      <td>&lt;table bgcolor=\"#f8f9fa\" class=\"wikitable\" sty...</td>\n",
       "      <td>{'0': {'isPartiallyBoldBl': {'a': 0, 'b': 0}, ...</td>\n",
       "      <td>100040</td>\n",
       "      <td>Richmond Football Club</td>\n",
       "      <td>[Header, Data, Data, Data, Data, Other]</td>\n",
       "      <td>6</td>\n",
       "      <td>Club records[edit]</td>\n",
       "      <td>&lt;table bgcolor=\"#f8f9fa\" class=\"wikitable\" sty...</td>\n",
       "    </tr>\n",
       "    <tr>\n",
       "      <th>1</th>\n",
       "      <td>5d020c07e7ee03eab39a83ec</td>\n",
       "      <td>1.560439e+12</td>\n",
       "      <td>[Header, Data, Data, Data, Header, Data, Heade...</td>\n",
       "      <td>{'0': {'isPartiallyBoldBl': 0, 'isTHOrInTHead'...</td>\n",
       "      <td>&lt;table bgcolor=\"#f8f9fa\" class=\"wikitable sort...</td>\n",
       "      <td>{'0': {'isPartiallyBoldBl': {'a': 0, 'b': 0}, ...</td>\n",
       "      <td>1000616</td>\n",
       "      <td>No Prayer for the Dying</td>\n",
       "      <td>[Header, Data, Data, Other, Header, Data, Head...</td>\n",
       "      <td>2</td>\n",
       "      <td>Singles[edit]</td>\n",
       "      <td>&lt;table bgcolor=\"#f8f9fa\" class=\"wikitable sort...</td>\n",
       "    </tr>\n",
       "    <tr>\n",
       "      <th>2</th>\n",
       "      <td>5d020c07e7ee03eab39a83ca</td>\n",
       "      <td>1.560438e+12</td>\n",
       "      <td>[Header, Other, Header, Data, Data, Data, Data...</td>\n",
       "      <td>{'0': {'isPartiallyBoldBl': 0, 'isTHOrInTHead'...</td>\n",
       "      <td>&lt;table align=\"center\" bgcolor=\"#f8f9fa\" class=...</td>\n",
       "      <td>{'0': {'isPartiallyBoldBl': {'a': 0, 'b': 0}, ...</td>\n",
       "      <td>10005298</td>\n",
       "      <td>Yon García</td>\n",
       "      <td>[Header, Header, Header, Data, Data, Data, Dat...</td>\n",
       "      <td>1</td>\n",
       "      <td>Results[edit]</td>\n",
       "      <td>&lt;table align=\"center\" bgcolor=\"#f8f9fa\" class=...</td>\n",
       "    </tr>\n",
       "    <tr>\n",
       "      <th>3</th>\n",
       "      <td>5d020c07e7ee03eab39a840e</td>\n",
       "      <td>1.560439e+12</td>\n",
       "      <td>[Header, Data, Data]</td>\n",
       "      <td>{'0': {'isPartiallyBoldBl': 0, 'isTHOrInTHead'...</td>\n",
       "      <td>&lt;table bgcolor=\"#f8f9fa\" class=\"wikitable\" sty...</td>\n",
       "      <td>{'0': {'isPartiallyBoldBl': {'a': 0, 'b': 0}, ...</td>\n",
       "      <td>10007332</td>\n",
       "      <td>Nightwish discography</td>\n",
       "      <td>[Header, Data, Data]</td>\n",
       "      <td>8</td>\n",
       "      <td>Demo albums[edit]</td>\n",
       "      <td>&lt;table bgcolor=\"#f8f9fa\" class=\"wikitable\" sty...</td>\n",
       "    </tr>\n",
       "    <tr>\n",
       "      <th>4</th>\n",
       "      <td>5d020c07e7ee03eab39a8434</td>\n",
       "      <td>1.560440e+12</td>\n",
       "      <td>[Header, Header, Data]</td>\n",
       "      <td>{'0': {'isPartiallyBoldBl': 0, 'isTHOrInTHead'...</td>\n",
       "      <td>&lt;table bgcolor=\"#f8f9fa\" class=\"wikitable\" sty...</td>\n",
       "      <td>{'0': {'isPartiallyBoldBl': {'a': 0, 'b': 0}, ...</td>\n",
       "      <td>10008653</td>\n",
       "      <td>Igaya Station</td>\n",
       "      <td>[Header, Header, Data]</td>\n",
       "      <td>0</td>\n",
       "      <td>Adjacent stations[edit]</td>\n",
       "      <td>&lt;table bgcolor=\"#f8f9fa\" class=\"wikitable\" sty...</td>\n",
       "    </tr>\n",
       "  </tbody>\n",
       "</table>\n",
       "</div>"
      ],
      "text/plain": [
       "                        _id   annotatedAt  \\\n",
       "0  5d020c07e7ee03eab39a8382  1.560439e+12   \n",
       "1  5d020c07e7ee03eab39a83ec  1.560439e+12   \n",
       "2  5d020c07e7ee03eab39a83ca  1.560438e+12   \n",
       "3  5d020c07e7ee03eab39a840e  1.560439e+12   \n",
       "4  5d020c07e7ee03eab39a8434  1.560440e+12   \n",
       "\n",
       "                                         annotations  \\\n",
       "0              [Data, Data, Data, Data, Data, Other]   \n",
       "1  [Header, Data, Data, Data, Header, Data, Heade...   \n",
       "2  [Header, Other, Header, Data, Data, Data, Data...   \n",
       "3                               [Header, Data, Data]   \n",
       "4                             [Header, Header, Data]   \n",
       "\n",
       "                                            features  \\\n",
       "0  {'0': {'isPartiallyBoldBl': 0, 'isTHOrInTHead'...   \n",
       "1  {'0': {'isPartiallyBoldBl': 0, 'isTHOrInTHead'...   \n",
       "2  {'0': {'isPartiallyBoldBl': 0, 'isTHOrInTHead'...   \n",
       "3  {'0': {'isPartiallyBoldBl': 0, 'isTHOrInTHead'...   \n",
       "4  {'0': {'isPartiallyBoldBl': 0, 'isTHOrInTHead'...   \n",
       "\n",
       "                                                html  \\\n",
       "0  <table bgcolor=\"#f8f9fa\" class=\"wikitable\" sty...   \n",
       "1  <table bgcolor=\"#f8f9fa\" class=\"wikitable sort...   \n",
       "2  <table align=\"center\" bgcolor=\"#f8f9fa\" class=...   \n",
       "3  <table bgcolor=\"#f8f9fa\" class=\"wikitable\" sty...   \n",
       "4  <table bgcolor=\"#f8f9fa\" class=\"wikitable\" sty...   \n",
       "\n",
       "                                              logBin    pageID  \\\n",
       "0  {'0': {'isPartiallyBoldBl': {'a': 0, 'b': 0}, ...    100040   \n",
       "1  {'0': {'isPartiallyBoldBl': {'a': 0, 'b': 0}, ...   1000616   \n",
       "2  {'0': {'isPartiallyBoldBl': {'a': 0, 'b': 0}, ...  10005298   \n",
       "3  {'0': {'isPartiallyBoldBl': {'a': 0, 'b': 0}, ...  10007332   \n",
       "4  {'0': {'isPartiallyBoldBl': {'a': 0, 'b': 0}, ...  10008653   \n",
       "\n",
       "                 pageTitle                                        predictions  \\\n",
       "0   Richmond Football Club            [Header, Data, Data, Data, Data, Other]   \n",
       "1  No Prayer for the Dying  [Header, Data, Data, Other, Header, Data, Head...   \n",
       "2               Yon García  [Header, Header, Header, Data, Data, Data, Dat...   \n",
       "3    Nightwish discography                               [Header, Data, Data]   \n",
       "4            Igaya Station                             [Header, Header, Data]   \n",
       "\n",
       "   tableIndex               tableTitle  \\\n",
       "0           6       Club records[edit]   \n",
       "1           2            Singles[edit]   \n",
       "2           1            Results[edit]   \n",
       "3           8        Demo albums[edit]   \n",
       "4           0  Adjacent stations[edit]   \n",
       "\n",
       "                                          taggedHtml  \n",
       "0  <table bgcolor=\"#f8f9fa\" class=\"wikitable\" sty...  \n",
       "1  <table bgcolor=\"#f8f9fa\" class=\"wikitable sort...  \n",
       "2  <table align=\"center\" bgcolor=\"#f8f9fa\" class=...  \n",
       "3  <table bgcolor=\"#f8f9fa\" class=\"wikitable\" sty...  \n",
       "4  <table bgcolor=\"#f8f9fa\" class=\"wikitable\" sty...  "
      ]
     },
     "execution_count": 115,
     "metadata": {},
     "output_type": "execute_result"
    }
   ],
   "source": [
    "client = MongoClient()\n",
    "db = client.bob\n",
    "tables = db.tables\n",
    "cursor = tables.find({\"predictions\" : {\"$exists\" : True}})\n",
    "predictedTables = pd.DataFrame(list(cursor))\n",
    "client.close()\n",
    "predictedTables.head()"
   ]
  },
  {
   "cell_type": "code",
   "execution_count": 86,
   "metadata": {},
   "outputs": [],
   "source": [
    "def getWronglyPredicted(table):\n",
    "    incorrect = []\n",
    "    for rowIndex, label in enumerate(table['annotations']):\n",
    "        if(label != table['predictions'][rowIndex]):\n",
    "            incorrect.append({\n",
    "                'annotated': label,\n",
    "                'predicted': table['predictions'][rowIndex]\n",
    "            })\n",
    "    return incorrect\n",
    "\n",
    "def getCorrectlyPredictedCount(table):\n",
    "    return len(table['annotations']) - table['predictedIncorrectlyCount']\n",
    "    \n",
    "def isWholeTableCorrectlyPredicted(table):\n",
    "    return table['predictedCorrectlyCount'] == len(table['annotations'])\n",
    "\n",
    "def getIncorrectlyPredictedCount(table):\n",
    "    return len(table['wronglyPredicted'])"
   ]
  },
  {
   "cell_type": "code",
   "execution_count": 87,
   "metadata": {},
   "outputs": [],
   "source": [
    "predictedTables['wronglyPredicted'] = predictedTables.apply(getWronglyPredicted, axis='columns')\n",
    "predictedTables['predictedIncorrectlyCount'] = predictedTables.apply(getIncorrectlyPredictedCount, axis='columns')\n",
    "predictedTables['predictedCorrectlyCount'] = predictedTables.apply(getCorrectlyPredictedCount, axis='columns')\n",
    "predictedTables['predictedCorrectly'] = predictedTables.apply(isWholeTableCorrectlyPredicted, axis='columns')"
   ]
  },
  {
   "cell_type": "code",
   "execution_count": 88,
   "metadata": {},
   "outputs": [
    {
     "name": "stdout",
     "output_type": "stream",
     "text": [
      "Correctly predicted table count: 227\n"
     ]
    }
   ],
   "source": [
    "correctlyPredictedTables = predictedTables.loc[predictedTables['predictedCorrectly']].shape[0]\n",
    "print('Correctly predicted table count: ' + str(correctlyPredictedTables))"
   ]
  },
  {
   "cell_type": "code",
   "execution_count": 89,
   "metadata": {},
   "outputs": [
    {
     "name": "stdout",
     "output_type": "stream",
     "text": [
      "Incorrect predicted table count: 52\n"
     ]
    }
   ],
   "source": [
    "incorrectPredictedTables = predictedTables.loc[~predictedTables['predictedCorrectly']]\n",
    "incorrectPredictedTables.reset_index(inplace=True)\n",
    "incorrectPredictedTableCount = incorrectPredictedTables.shape[0]\n",
    "print('Incorrect predicted table count: ' + str(incorrectPredictedTableCount))"
   ]
  },
  {
   "cell_type": "markdown",
   "metadata": {},
   "source": [
    "## Correctly predicted rows"
   ]
  },
  {
   "cell_type": "code",
   "execution_count": 90,
   "metadata": {},
   "outputs": [
    {
     "data": {
      "text/plain": [
       "[Text(0, 0.5, 'Amount of tables'),\n",
       " Text(0.5, 0, 'Amount of incorrectly labeled rows per table'),\n",
       " Text(0.5, 1.0, 'Incorrectly labled rows per table')]"
      ]
     },
     "execution_count": 90,
     "metadata": {},
     "output_type": "execute_result"
    },
    {
     "data": {
      "image/png": "[encoded data removed]",
      "text/plain": [
       "<Figure size 1440x720 with 1 Axes>"
      ]
     },
     "metadata": {
      "needs_background": "light"
     },
     "output_type": "display_data"
    }
   ],
   "source": [
    "numberOfIncorrectRowsPerTablePlot = incorrectPredictedTables['predictedIncorrectlyCount'].value_counts().plot(\n",
    "    kind='bar', \n",
    "    figsize=(20, 10)\n",
    ")\n",
    "labelBars(numberOfIncorrectRowsPerTablePlot)\n",
    "numberOfIncorrectRowsPerTablePlot.set(\n",
    "   xlabel='Amount of incorrectly labeled rows per table',\n",
    "    ylabel='Amount of tables',\n",
    "    title='Incorrectly labled rows per table'\n",
    ")"
   ]
  },
  {
   "cell_type": "code",
   "execution_count": 91,
   "metadata": {},
   "outputs": [
    {
     "data": {
      "text/plain": [
       "[Text(0, 0.5, 'Amount of tables'),\n",
       " Text(0.5, 0, 'Table size (total table row count)'),\n",
       " Text(0.5, 1.0, 'Dependency between table size (total row count) and prediction correctness')]"
      ]
     },
     "execution_count": 91,
     "metadata": {},
     "output_type": "execute_result"
    },
    {
     "data": {
      "image/png": "[encoded data removed]",
      "text/plain": [
       "<Figure size 1440x720 with 1 Axes>"
      ]
     },
     "metadata": {
      "needs_background": "light"
     },
     "output_type": "display_data"
    }
   ],
   "source": [
    "def getRowCount(table):\n",
    "    return len(table['annotations'])\n",
    "\n",
    "rowCountPerTablePlot = incorrectPredictedTables.apply(getRowCount, axis='columns').value_counts().plot(\n",
    "    kind='bar', \n",
    "    figsize=(20, 10)\n",
    ")\n",
    "labelBars(rowCountPerTablePlot)\n",
    "rowCountPerTablePlot.set(\n",
    "   xlabel='Table size (total table row count)',\n",
    "    ylabel='Amount of tables',\n",
    "    title='Dependency between table size (total row count) and prediction correctness'\n",
    ")"
   ]
  },
  {
   "cell_type": "code",
   "execution_count": 92,
   "metadata": {},
   "outputs": [
    {
     "name": "stdout",
     "output_type": "stream",
     "text": [
      "Count of which row type got predicted incorrectly:\n"
     ]
    },
    {
     "data": {
      "text/html": [
       "<div>\n",
       "<style scoped>\n",
       "    .dataframe tbody tr th:only-of-type {\n",
       "        vertical-align: middle;\n",
       "    }\n",
       "\n",
       "    .dataframe tbody tr th {\n",
       "        vertical-align: top;\n",
       "    }\n",
       "\n",
       "    .dataframe thead th {\n",
       "        text-align: right;\n",
       "    }\n",
       "</style>\n",
       "<table border=\"1\" class=\"dataframe\">\n",
       "  <thead>\n",
       "    <tr style=\"text-align: right;\">\n",
       "      <th></th>\n",
       "      <th>predicted</th>\n",
       "    </tr>\n",
       "    <tr>\n",
       "      <th>annotated</th>\n",
       "      <th></th>\n",
       "    </tr>\n",
       "  </thead>\n",
       "  <tbody>\n",
       "    <tr>\n",
       "      <th>Data</th>\n",
       "      <td>16</td>\n",
       "    </tr>\n",
       "    <tr>\n",
       "      <th>Header</th>\n",
       "      <td>20</td>\n",
       "    </tr>\n",
       "    <tr>\n",
       "      <th>Other</th>\n",
       "      <td>69</td>\n",
       "    </tr>\n",
       "  </tbody>\n",
       "</table>\n",
       "</div>"
      ],
      "text/plain": [
       "           predicted\n",
       "annotated           \n",
       "Data              16\n",
       "Header            20\n",
       "Other             69"
      ]
     },
     "execution_count": 92,
     "metadata": {},
     "output_type": "execute_result"
    }
   ],
   "source": [
    "wronglyPredicted = list(incorrectPredictedTables['wronglyPredicted'])\n",
    "wronglyPredicted = [item for sublist in wronglyPredicted for item in sublist]\n",
    "wronglyPredicted = pd.DataFrame(wronglyPredicted)\n",
    "print('Count of which row type got predicted incorrectly:')\n",
    "wronglyPredicted.groupby('annotated').count()"
   ]
  },
  {
   "cell_type": "code",
   "execution_count": 140,
   "metadata": {},
   "outputs": [],
   "source": [
    "def getLabeledAsMatrix(tables):\n",
    "    labeledAs = {}\n",
    "    for iRow, table in tables.iterrows():\n",
    "        for iAnnotation, annotation in enumerate(table['annotations']):\n",
    "            currentLabelDict = labeledAs.get(annotation, {})\n",
    "            predictedAs = table['predictions'][iAnnotation]\n",
    "            currentLabelDict[predictedAs] = currentLabelDict.get(predictedAs, 0) + 1\n",
    "            labeledAs[annotation] = currentLabelDict\n",
    "    return labeledAs"
   ]
  },
  {
   "cell_type": "code",
   "execution_count": 154,
   "metadata": {},
   "outputs": [
    {
     "data": {
      "text/html": [
       "<div>\n",
       "<style scoped>\n",
       "    .dataframe tbody tr th:only-of-type {\n",
       "        vertical-align: middle;\n",
       "    }\n",
       "\n",
       "    .dataframe tbody tr th {\n",
       "        vertical-align: top;\n",
       "    }\n",
       "\n",
       "    .dataframe thead th {\n",
       "        text-align: right;\n",
       "    }\n",
       "</style>\n",
       "<table border=\"1\" class=\"dataframe\">\n",
       "  <thead>\n",
       "    <tr style=\"text-align: right;\">\n",
       "      <th></th>\n",
       "      <th>Data</th>\n",
       "      <th>Header</th>\n",
       "      <th>Other</th>\n",
       "    </tr>\n",
       "  </thead>\n",
       "  <tbody>\n",
       "    <tr>\n",
       "      <th>Header</th>\n",
       "      <td>20</td>\n",
       "      <td>298</td>\n",
       "      <td>0.0</td>\n",
       "    </tr>\n",
       "    <tr>\n",
       "      <th>Data</th>\n",
       "      <td>3702</td>\n",
       "      <td>3</td>\n",
       "      <td>13.0</td>\n",
       "    </tr>\n",
       "    <tr>\n",
       "      <th>Other</th>\n",
       "      <td>55</td>\n",
       "      <td>14</td>\n",
       "      <td>187.0</td>\n",
       "    </tr>\n",
       "  </tbody>\n",
       "</table>\n",
       "</div>"
      ],
      "text/plain": [
       "        Data  Header  Other\n",
       "Header    20     298    0.0\n",
       "Data    3702       3   13.0\n",
       "Other     55      14  187.0"
      ]
     },
     "execution_count": 154,
     "metadata": {},
     "output_type": "execute_result"
    }
   ],
   "source": [
    "labeledAsMatrix = getLabeledAsMatrix(testTables)\n",
    "labeledAsMatrixPD = pd.DataFrame(labeledAsMatrix.values(), index=labeledAsMatrix.keys())\n",
    "labeledAsMatrixPD.fillna(0, inplace=True)\n",
    "labeledAsMatrixPD\n",
    "# ratioDf = pd.DataFrame(ratios, index=ratioLabels, columns=['Other', 'Header', 'Data']).T\n"
   ]
  },
  {
   "cell_type": "markdown",
   "metadata": {},
   "source": [
    "## More detailed analysis"
   ]
  },
  {
   "cell_type": "code",
   "execution_count": null,
   "metadata": {},
   "outputs": [],
   "source": [
    "print('Table ids of incorrectly predicted tables')\n",
    "pd.set_option('display.max_colwidth', -1)\n",
    "incorrectPredictedTables[['_id', 'predictions']]"
   ]
  },
  {
   "cell_type": "markdown",
   "metadata": {},
   "source": [
    "## Possible reasons for incorrect labeling (1):\n",
    "- background color not taken into account enough -> to less examples where background color indicates Header or to many example where a colored cell is not a Header cell\n",
    "- It's a legend and marked as data while we would label it as 'Other' -> taking into account the occurrence of characters like '=' ':' could help?\n",
    "- merged cell doesn't seem to be a good indicator that cell should be 'Other' instead of 'Data'\n",
    "- group header mistaken as real header\n",
    "- maybe the tables (with many rows) in the test set had no header and therefor the size was more important? (need to check if row/col count is taken as feature)\n",
    "- 'bold' style doesn't indicate if it's a header for sure -> tr/thead feature is more important -> if tr/thead is missing, but cell is bold the row still gets marked as 'Data' instead of 'Header' -> introduce feature accross whole row for bold too"
   ]
  }
 ],
 "metadata": {
  "kernelspec": {
   "display_name": "Python 3",
   "language": "python",
   "name": "python3"
  },
  "language_info": {
   "codemirror_mode": {
    "name": "ipython",
    "version": 3
   },
   "file_extension": ".py",
   "mimetype": "text/x-python",
   "name": "python",
   "nbconvert_exporter": "python",
   "pygments_lexer": "ipython3",
   "version": "3.7.3"
  }
 },
 "nbformat": 4,
 "nbformat_minor": 2
}
