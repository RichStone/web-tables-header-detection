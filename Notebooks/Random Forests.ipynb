{
 "cells": [
  {
   "cell_type": "markdown",
   "metadata": {},
   "source": [
    "# Requirements"
   ]
  },
  {
   "cell_type": "code",
   "execution_count": null,
   "metadata": {},
   "outputs": [],
   "source": [
    "import os\n",
    "import json\n",
    "import pandas as pd\n",
    "from pymongo import MongoClient\n",
    "import numpy as np\n",
    "from sklearn.metrics import classification_report\n",
    "from sklearn.ensemble import RandomForestRegressor"
   ]
  },
  {
   "cell_type": "markdown",
   "metadata": {},
   "source": [
    "# Random Forests"
   ]
  },
  {
   "cell_type": "code",
   "execution_count": null,
   "metadata": {},
   "outputs": [],
   "source": [
    "client = MongoClient()\n",
    "db = client.bob\n",
    "tables = db.tables\n",
    "cursor = tables.find({\"annotatedAt\" : {\"$exists\" : True}, \"skipped\": {\"$ne\": True}})\n",
    "tables = pd.DataFrame(list(cursor))\n",
    "client.close()"
   ]
  },
  {
   "cell_type": "code",
   "execution_count": null,
   "metadata": {},
   "outputs": [],
   "source": [
    "trainTables = pd.DataFrame(json.load(open(os.path.join('..', 'data', 'train.json'), 'r')).values(), columns=['_id'])\n",
    "testTables = pd.DataFrame(json.load(open(os.path.join('..', 'data', 'test.json'), 'r')).values(), columns=['_id'])\n",
    "trainTables = trainTables['_id'].apply(lambda tableID: tables.loc[tables['_id'].astype(str) == tableID].iloc[0])\n",
    "testTables = testTables['_id'].apply(lambda tableID: tables.loc[tables['_id'].astype(str) == tableID].iloc[0])"
   ]
  },
  {
   "cell_type": "markdown",
   "metadata": {},
   "source": [
    "## Feature preparation"
   ]
  },
  {
   "cell_type": "code",
   "execution_count": null,
   "metadata": {},
   "outputs": [],
   "source": [
    "# random forests expect float values so logarithmic binning doesn't work\n",
    "def normalizeRow(rowDict):\n",
    "    colCount = rowDict['colCount']\n",
    "    rowDict.pop('colCount')\n",
    "    for feature in rowDict:\n",
    "        rowDict[feature] = rowDict[feature]/colCount\n",
    "    return rowDict\n",
    " \n",
    "def flattenRowFeatures(tables):\n",
    "    tableFeatures = [tableFeatures for tableFeatures in tables[\"features\"]]\n",
    "    rowFeatures = []\n",
    "    # reduce features to one table with features per row\n",
    "    for table in tableFeatures:  \n",
    "        for rowKey in table:\n",
    "            rowDict = table[rowKey]\n",
    "            rowDict = normalizeRow(rowDict)\n",
    "            rowDict['normalizedRowIndex'] = int(rowKey)/len(table)\n",
    "            rowFeatures.append(rowDict)\n",
    "\n",
    "    rowFeatures = pd.DataFrame(rowFeatures)\n",
    "    return rowFeatures\n",
    "    \n",
    "def removeSimilarityFeatures(rowFeatures):\n",
    "    # clean of features comparing neighbouring rows (because they are NaN in first and last row)\n",
    "    columnsToDrop = []\n",
    "    for columnName in rowFeatures:\n",
    "        if columnName[-2:] == \"Al\" or columnName[-2:] == \"Au\" or columnName[-2:] == \"Bl\" or columnName[-2:] == \"Bu\":\n",
    "            columnsToDrop.append(columnName)\n",
    "    rowFeatures = rowFeatures.drop(columns = columnsToDrop)\n",
    "    return rowFeatures\n",
    "\n",
    "def cleanNaNFeatures(rowFeatures):\n",
    "    newFeatures = {}\n",
    "    for feature in rowFeatures:\n",
    "        featureValues = []\n",
    "        for value in rowFeatures[feature]:\n",
    "            if np.isnan(value):\n",
    "                featureValues.append(-1)\n",
    "            else:\n",
    "                featureValues.append(value)\n",
    "        newFeatures[feature] = featureValues\n",
    "    newFeatures = pd.DataFrame(newFeatures)\n",
    "    return newFeatures\n",
    "    \n",
    "def getRandomForestFeatures(tables):\n",
    "    rowFeatures = flattenRowFeatures(tables)\n",
    "    rowFeatures = cleanNaNFeatures(rowFeatures)\n",
    "    return rowFeatures\n",
    "\n",
    "def flattenAnnotations(tables):\n",
    "    tableLables = [tableAnnotations for tableAnnotations in tables[\"annotations\"]]\n",
    "    rowLables = reduce(list.__add__, tableLables)\n",
    "    labels = {\"Header\": 0, \"Data\": 1, \"Other\": 2}\n",
    "    rowLables = [labels[lable] for lable in rowLables]\n",
    "    return rowLables"
   ]
  },
  {
   "cell_type": "markdown",
   "metadata": {},
   "source": [
    "## Train"
   ]
  },
  {
   "cell_type": "code",
   "execution_count": null,
   "metadata": {},
   "outputs": [],
   "source": [
    "X_train = getRandomForestFeatures(trainTables)\n",
    "X_test = getRandomForestFeatures(testTables)\n",
    "y_train = flattenAnnotations(trainTables)\n",
    "y_test = flattenAnnotations(testTables)"
   ]
  },
  {
   "cell_type": "code",
   "execution_count": null,
   "metadata": {},
   "outputs": [],
   "source": [
    "# Instantiate model with 1000 decision trees\n",
    "rf = RandomForestRegressor(n_estimators = 1000, random_state = 42)\n",
    "\n",
    "# Train the model on training data\n",
    "rf.fit(X_train, y_train);"
   ]
  },
  {
   "cell_type": "markdown",
   "metadata": {},
   "source": [
    "## Test"
   ]
  },
  {
   "cell_type": "code",
   "execution_count": null,
   "metadata": {},
   "outputs": [],
   "source": [
    "predictions = rf.predict(X_test)\n",
    "absolutePredictions = [round(p) for p in predictions]"
   ]
  },
  {
   "cell_type": "markdown",
   "metadata": {},
   "source": [
    "## Evaluate"
   ]
  },
  {
   "cell_type": "code",
   "execution_count": null,
   "metadata": {},
   "outputs": [],
   "source": [
    "# Print out the classification report\n",
    "print(classification_report(\n",
    "    y_test, absolutePredictions,\n",
    "    target_names=[\"Header\", \"Data\", \"Other\"]))"
   ]
  },
  {
   "cell_type": "code",
   "execution_count": null,
   "metadata": {},
   "outputs": [],
   "source": [
    "# Get numerical feature importances\n",
    "importances = list(rf.feature_importances_)\n",
    "\n",
    "feature_list = list(X_train.columns)\n",
    "feature_importances = [(feature, round(importance, 2)) for feature, importance in zip(feature_list, importances)]\n",
    "\n",
    "# Sort the feature importances by most important first\n",
    "feature_importances = sorted(feature_importances, key = lambda x: x[1], reverse = True)\n",
    "\n",
    "# Print out the feature and importances \n",
    "[print('{:20} Importance: {}'.format(*pair)) for pair in feature_importances];"
   ]
  }
 ],
 "metadata": {
  "kernelspec": {
   "display_name": "Python 3",
   "language": "python",
   "name": "python3"
  },
  "language_info": {
   "codemirror_mode": {
    "name": "ipython",
    "version": 3
   },
   "file_extension": ".py",
   "mimetype": "text/x-python",
   "name": "python",
   "nbconvert_exporter": "python",
   "pygments_lexer": "ipython3",
   "version": "3.7.3"
  }
 },
 "nbformat": 4,
 "nbformat_minor": 2
}
